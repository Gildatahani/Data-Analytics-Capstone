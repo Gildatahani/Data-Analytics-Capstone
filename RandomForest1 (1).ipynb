{
 "cells": [
  {
   "cell_type": "code",
   "execution_count": 43,
   "id": "ab3bb3e2",
   "metadata": {
    "id": "ab3bb3e2"
   },
   "outputs": [],
   "source": [
    "import pandas as pd\n",
    "import numpy as np\n",
    "import seaborn as sns\n",
    "import matplotlib.pyplot as plt"
   ]
  },
  {
   "cell_type": "code",
   "execution_count": 44,
   "id": "f57b80cb",
   "metadata": {
    "colab": {
     "base_uri": "https://localhost:8080/",
     "height": 336
    },
    "executionInfo": {
     "elapsed": 126,
     "status": "error",
     "timestamp": 1689045991716,
     "user": {
      "displayName": "Gilda Tahani",
      "userId": "08506607757169875388"
     },
     "user_tz": 240
    },
    "id": "f57b80cb",
    "outputId": "7f1bb2c5-11b5-4c7f-e44a-6507bddf7658"
   },
   "outputs": [],
   "source": [
    "#read dataset\n",
    "df=pd.read_csv(\"Anime.csv\")"
   ]
  },
  {
   "cell_type": "code",
   "execution_count": 45,
   "id": "d226bebc",
   "metadata": {
    "id": "d226bebc",
    "outputId": "9796808a-6062-42a8-ab9c-11e9be7dcb05"
   },
   "outputs": [
    {
     "data": {
      "text/plain": [
       "(4925, 20)"
      ]
     },
     "execution_count": 45,
     "metadata": {},
     "output_type": "execute_result"
    }
   ],
   "source": [
    "#show dataset dimention\n",
    "df.shape"
   ]
  },
  {
   "cell_type": "code",
   "execution_count": 46,
   "id": "196a8231",
   "metadata": {
    "id": "196a8231",
    "outputId": "eb38c2da-4cab-4070-dc89-72b5e84d071e"
   },
   "outputs": [
    {
     "data": {
      "text/html": [
       "<div>\n",
       "<style scoped>\n",
       "    .dataframe tbody tr th:only-of-type {\n",
       "        vertical-align: middle;\n",
       "    }\n",
       "\n",
       "    .dataframe tbody tr th {\n",
       "        vertical-align: top;\n",
       "    }\n",
       "\n",
       "    .dataframe thead th {\n",
       "        text-align: right;\n",
       "    }\n",
       "</style>\n",
       "<table border=\"1\" class=\"dataframe\">\n",
       "  <thead>\n",
       "    <tr style=\"text-align: right;\">\n",
       "      <th></th>\n",
       "      <th>username</th>\n",
       "      <th>anime_id</th>\n",
       "      <th>my_score</th>\n",
       "      <th>user_id</th>\n",
       "      <th>gender</th>\n",
       "      <th>title</th>\n",
       "      <th>type</th>\n",
       "      <th>source</th>\n",
       "      <th>score</th>\n",
       "      <th>scored_by</th>\n",
       "      <th>rank</th>\n",
       "      <th>popularity</th>\n",
       "      <th>genre</th>\n",
       "      <th>Duration</th>\n",
       "      <th>Rating</th>\n",
       "      <th>Members</th>\n",
       "      <th>Favorites</th>\n",
       "      <th>Completed</th>\n",
       "      <th>On-Hold</th>\n",
       "      <th>Dropped</th>\n",
       "    </tr>\n",
       "  </thead>\n",
       "  <tbody>\n",
       "    <tr>\n",
       "      <th>0</th>\n",
       "      <td>karthiga</td>\n",
       "      <td>21</td>\n",
       "      <td>9</td>\n",
       "      <td>2255153</td>\n",
       "      <td>Female</td>\n",
       "      <td>One Piece</td>\n",
       "      <td>TV</td>\n",
       "      <td>Manga</td>\n",
       "      <td>8.54</td>\n",
       "      <td>423868.0</td>\n",
       "      <td>91</td>\n",
       "      <td>35</td>\n",
       "      <td>Action, Adventure, Comedy, Super Power, Drama,...</td>\n",
       "      <td>24 min. per ep.</td>\n",
       "      <td>R - 17+ (violence &amp; profanity)</td>\n",
       "      <td>1251960</td>\n",
       "      <td>61971</td>\n",
       "      <td>718161</td>\n",
       "      <td>71513</td>\n",
       "      <td>26678</td>\n",
       "    </tr>\n",
       "    <tr>\n",
       "      <th>1</th>\n",
       "      <td>RedvelvetDaisuki</td>\n",
       "      <td>918</td>\n",
       "      <td>0</td>\n",
       "      <td>1897606</td>\n",
       "      <td>Female</td>\n",
       "      <td>Gintama</td>\n",
       "      <td>TV</td>\n",
       "      <td>Manga</td>\n",
       "      <td>9.01</td>\n",
       "      <td>141830.0</td>\n",
       "      <td>15</td>\n",
       "      <td>95</td>\n",
       "      <td>Action, Sci-Fi, Comedy, Historical, Parody, Sa...</td>\n",
       "      <td>1 hr. 55 min.</td>\n",
       "      <td>R - 17+ (violence &amp; profanity)</td>\n",
       "      <td>273145</td>\n",
       "      <td>1174</td>\n",
       "      <td>208333</td>\n",
       "      <td>1935</td>\n",
       "      <td>770</td>\n",
       "    </tr>\n",
       "    <tr>\n",
       "      <th>2</th>\n",
       "      <td>RedvelvetDaisuki</td>\n",
       "      <td>9479</td>\n",
       "      <td>3</td>\n",
       "      <td>1897606</td>\n",
       "      <td>Female</td>\n",
       "      <td>Coppelion</td>\n",
       "      <td>TV</td>\n",
       "      <td>Manga</td>\n",
       "      <td>6.54</td>\n",
       "      <td>37299.0</td>\n",
       "      <td>5443</td>\n",
       "      <td>949</td>\n",
       "      <td>Action, Sci-Fi, Seinen</td>\n",
       "      <td>24 min. per ep.</td>\n",
       "      <td>PG-13 - Teens 13 or older</td>\n",
       "      <td>558913</td>\n",
       "      <td>12944</td>\n",
       "      <td>718161</td>\n",
       "      <td>71513</td>\n",
       "      <td>13925</td>\n",
       "    </tr>\n",
       "    <tr>\n",
       "      <th>3</th>\n",
       "      <td>RedvelvetDaisuki</td>\n",
       "      <td>22135</td>\n",
       "      <td>8</td>\n",
       "      <td>1897606</td>\n",
       "      <td>Female</td>\n",
       "      <td>Ping Pong The Animation</td>\n",
       "      <td>TV</td>\n",
       "      <td>Manga</td>\n",
       "      <td>8.65</td>\n",
       "      <td>72887.0</td>\n",
       "      <td>58</td>\n",
       "      <td>563</td>\n",
       "      <td>Sports, Psychological, Drama, Seinen</td>\n",
       "      <td>25 min. per ep.</td>\n",
       "      <td>PG-13 - Teens 13 or older</td>\n",
       "      <td>94683</td>\n",
       "      <td>587</td>\n",
       "      <td>718161</td>\n",
       "      <td>71513</td>\n",
       "      <td>5378</td>\n",
       "    </tr>\n",
       "    <tr>\n",
       "      <th>4</th>\n",
       "      <td>Damonashu</td>\n",
       "      <td>1829</td>\n",
       "      <td>6</td>\n",
       "      <td>37326</td>\n",
       "      <td>Male</td>\n",
       "      <td>Gedo Senki</td>\n",
       "      <td>Movie</td>\n",
       "      <td>Novel</td>\n",
       "      <td>7.13</td>\n",
       "      <td>44087.0</td>\n",
       "      <td>3072</td>\n",
       "      <td>1125</td>\n",
       "      <td>Adventure, Fantasy, Magic</td>\n",
       "      <td>23 min. per ep.</td>\n",
       "      <td>PG - Children</td>\n",
       "      <td>13224</td>\n",
       "      <td>18</td>\n",
       "      <td>718161</td>\n",
       "      <td>766</td>\n",
       "      <td>1108</td>\n",
       "    </tr>\n",
       "  </tbody>\n",
       "</table>\n",
       "</div>"
      ],
      "text/plain": [
       "           username  anime_id  my_score  user_id  gender  \\\n",
       "0          karthiga        21         9  2255153  Female   \n",
       "1  RedvelvetDaisuki       918         0  1897606  Female   \n",
       "2  RedvelvetDaisuki      9479         3  1897606  Female   \n",
       "3  RedvelvetDaisuki     22135         8  1897606  Female   \n",
       "4         Damonashu      1829         6    37326    Male   \n",
       "\n",
       "                     title   type source  score  scored_by  rank  popularity  \\\n",
       "0                One Piece     TV  Manga   8.54   423868.0    91          35   \n",
       "1                  Gintama     TV  Manga   9.01   141830.0    15          95   \n",
       "2                Coppelion     TV  Manga   6.54    37299.0  5443         949   \n",
       "3  Ping Pong The Animation     TV  Manga   8.65    72887.0    58         563   \n",
       "4               Gedo Senki  Movie  Novel   7.13    44087.0  3072        1125   \n",
       "\n",
       "                                               genre         Duration  \\\n",
       "0  Action, Adventure, Comedy, Super Power, Drama,...  24 min. per ep.   \n",
       "1  Action, Sci-Fi, Comedy, Historical, Parody, Sa...    1 hr. 55 min.   \n",
       "2                             Action, Sci-Fi, Seinen  24 min. per ep.   \n",
       "3               Sports, Psychological, Drama, Seinen  25 min. per ep.   \n",
       "4                          Adventure, Fantasy, Magic  23 min. per ep.   \n",
       "\n",
       "                           Rating  Members  Favorites  Completed  On-Hold  \\\n",
       "0  R - 17+ (violence & profanity)  1251960      61971     718161    71513   \n",
       "1  R - 17+ (violence & profanity)   273145       1174     208333     1935   \n",
       "2       PG-13 - Teens 13 or older   558913      12944     718161    71513   \n",
       "3       PG-13 - Teens 13 or older    94683        587     718161    71513   \n",
       "4                   PG - Children    13224         18     718161      766   \n",
       "\n",
       "   Dropped  \n",
       "0    26678  \n",
       "1      770  \n",
       "2    13925  \n",
       "3     5378  \n",
       "4     1108  "
      ]
     },
     "execution_count": 46,
     "metadata": {},
     "output_type": "execute_result"
    }
   ],
   "source": [
    "#read first 5 rows of dataset\n",
    "df.head()"
   ]
  },
  {
   "cell_type": "code",
   "execution_count": 47,
   "id": "f6380487",
   "metadata": {
    "id": "f6380487",
    "outputId": "9e65ec9d-c703-4c14-f4a9-be050eb073b2"
   },
   "outputs": [
    {
     "name": "stdout",
     "output_type": "stream",
     "text": [
      "<class 'pandas.core.frame.DataFrame'>\n",
      "RangeIndex: 4925 entries, 0 to 4924\n",
      "Data columns (total 11 columns):\n",
      " #   Column      Non-Null Count  Dtype  \n",
      "---  ------      --------------  -----  \n",
      " 0   anime_id    4925 non-null   int64  \n",
      " 1   my_score    4925 non-null   int64  \n",
      " 2   score       4925 non-null   float64\n",
      " 3   scored_by   4925 non-null   float64\n",
      " 4   rank        4925 non-null   int64  \n",
      " 5   popularity  4925 non-null   int64  \n",
      " 6   Members     4925 non-null   int64  \n",
      " 7   Favorites   4925 non-null   int64  \n",
      " 8   Completed   4925 non-null   int64  \n",
      " 9   On-Hold     4925 non-null   int64  \n",
      " 10  Dropped     4925 non-null   int64  \n",
      "dtypes: float64(2), int64(9)\n",
      "memory usage: 423.4 KB\n"
     ]
    }
   ],
   "source": [
    "#drop categorical columns\n",
    "df = df.drop(['username','user_id','gender','title','type','source','genre','Duration','Rating'], axis=1)\n",
    "df.info()"
   ]
  },
  {
   "cell_type": "code",
   "execution_count": 48,
   "id": "07668234",
   "metadata": {
    "id": "07668234",
    "outputId": "88b6c681-f5cc-4a15-84e8-a761d8fe7f4f"
   },
   "outputs": [
    {
     "data": {
      "text/html": [
       "<div>\n",
       "<style scoped>\n",
       "    .dataframe tbody tr th:only-of-type {\n",
       "        vertical-align: middle;\n",
       "    }\n",
       "\n",
       "    .dataframe tbody tr th {\n",
       "        vertical-align: top;\n",
       "    }\n",
       "\n",
       "    .dataframe thead th {\n",
       "        text-align: right;\n",
       "    }\n",
       "</style>\n",
       "<table border=\"1\" class=\"dataframe\">\n",
       "  <thead>\n",
       "    <tr style=\"text-align: right;\">\n",
       "      <th></th>\n",
       "      <th>anime_id</th>\n",
       "      <th>my_score</th>\n",
       "      <th>score</th>\n",
       "      <th>scored_by</th>\n",
       "      <th>rank</th>\n",
       "      <th>popularity</th>\n",
       "      <th>Members</th>\n",
       "      <th>Favorites</th>\n",
       "      <th>Completed</th>\n",
       "      <th>On-Hold</th>\n",
       "      <th>Dropped</th>\n",
       "    </tr>\n",
       "  </thead>\n",
       "  <tbody>\n",
       "    <tr>\n",
       "      <th>count</th>\n",
       "      <td>4925.000000</td>\n",
       "      <td>4925.000000</td>\n",
       "      <td>4925.000000</td>\n",
       "      <td>4925.000000</td>\n",
       "      <td>4925.000000</td>\n",
       "      <td>4925.000000</td>\n",
       "      <td>4.925000e+03</td>\n",
       "      <td>4925.000000</td>\n",
       "      <td>4925.000000</td>\n",
       "      <td>4925.000000</td>\n",
       "      <td>4925.000000</td>\n",
       "    </tr>\n",
       "    <tr>\n",
       "      <th>mean</th>\n",
       "      <td>11141.442437</td>\n",
       "      <td>4.587208</td>\n",
       "      <td>7.519182</td>\n",
       "      <td>101633.151269</td>\n",
       "      <td>2131.989848</td>\n",
       "      <td>1412.111269</td>\n",
       "      <td>9.732457e+04</td>\n",
       "      <td>734.720406</td>\n",
       "      <td>361994.711269</td>\n",
       "      <td>7358.420914</td>\n",
       "      <td>1348.993909</td>\n",
       "    </tr>\n",
       "    <tr>\n",
       "      <th>std</th>\n",
       "      <td>11166.987587</td>\n",
       "      <td>3.856320</td>\n",
       "      <td>0.734288</td>\n",
       "      <td>139514.450243</td>\n",
       "      <td>2031.703465</td>\n",
       "      <td>1606.743783</td>\n",
       "      <td>1.313324e+05</td>\n",
       "      <td>5882.872148</td>\n",
       "      <td>280727.135717</td>\n",
       "      <td>19631.240449</td>\n",
       "      <td>5965.380662</td>\n",
       "    </tr>\n",
       "    <tr>\n",
       "      <th>min</th>\n",
       "      <td>1.000000</td>\n",
       "      <td>0.000000</td>\n",
       "      <td>2.330000</td>\n",
       "      <td>200.000000</td>\n",
       "      <td>1.000000</td>\n",
       "      <td>1.000000</td>\n",
       "      <td>2.110000e+02</td>\n",
       "      <td>0.000000</td>\n",
       "      <td>1273.000000</td>\n",
       "      <td>10.000000</td>\n",
       "      <td>0.000000</td>\n",
       "    </tr>\n",
       "    <tr>\n",
       "      <th>25%</th>\n",
       "      <td>1562.000000</td>\n",
       "      <td>0.000000</td>\n",
       "      <td>7.110000</td>\n",
       "      <td>15260.000000</td>\n",
       "      <td>532.000000</td>\n",
       "      <td>291.000000</td>\n",
       "      <td>4.950000e+03</td>\n",
       "      <td>2.000000</td>\n",
       "      <td>150183.000000</td>\n",
       "      <td>712.000000</td>\n",
       "      <td>81.000000</td>\n",
       "    </tr>\n",
       "    <tr>\n",
       "      <th>50%</th>\n",
       "      <td>6956.000000</td>\n",
       "      <td>6.000000</td>\n",
       "      <td>7.550000</td>\n",
       "      <td>49113.000000</td>\n",
       "      <td>1485.000000</td>\n",
       "      <td>841.000000</td>\n",
       "      <td>1.278780e+05</td>\n",
       "      <td>10.000000</td>\n",
       "      <td>208333.000000</td>\n",
       "      <td>1935.000000</td>\n",
       "      <td>155.000000</td>\n",
       "    </tr>\n",
       "    <tr>\n",
       "      <th>75%</th>\n",
       "      <td>18393.000000</td>\n",
       "      <td>8.000000</td>\n",
       "      <td>8.020000</td>\n",
       "      <td>125060.000000</td>\n",
       "      <td>3191.000000</td>\n",
       "      <td>1940.000000</td>\n",
       "      <td>1.482590e+05</td>\n",
       "      <td>67.000000</td>\n",
       "      <td>718161.000000</td>\n",
       "      <td>1935.000000</td>\n",
       "      <td>487.000000</td>\n",
       "    </tr>\n",
       "    <tr>\n",
       "      <th>max</th>\n",
       "      <td>37537.000000</td>\n",
       "      <td>10.000000</td>\n",
       "      <td>9.250000</td>\n",
       "      <td>1000000.000000</td>\n",
       "      <td>9517.000000</td>\n",
       "      <td>9881.000000</td>\n",
       "      <td>2.589552e+06</td>\n",
       "      <td>183914.000000</td>\n",
       "      <td>718161.000000</td>\n",
       "      <td>187919.000000</td>\n",
       "      <td>174710.000000</td>\n",
       "    </tr>\n",
       "  </tbody>\n",
       "</table>\n",
       "</div>"
      ],
      "text/plain": [
       "           anime_id     my_score        score       scored_by         rank  \\\n",
       "count   4925.000000  4925.000000  4925.000000     4925.000000  4925.000000   \n",
       "mean   11141.442437     4.587208     7.519182   101633.151269  2131.989848   \n",
       "std    11166.987587     3.856320     0.734288   139514.450243  2031.703465   \n",
       "min        1.000000     0.000000     2.330000      200.000000     1.000000   \n",
       "25%     1562.000000     0.000000     7.110000    15260.000000   532.000000   \n",
       "50%     6956.000000     6.000000     7.550000    49113.000000  1485.000000   \n",
       "75%    18393.000000     8.000000     8.020000   125060.000000  3191.000000   \n",
       "max    37537.000000    10.000000     9.250000  1000000.000000  9517.000000   \n",
       "\n",
       "        popularity       Members      Favorites      Completed        On-Hold  \\\n",
       "count  4925.000000  4.925000e+03    4925.000000    4925.000000    4925.000000   \n",
       "mean   1412.111269  9.732457e+04     734.720406  361994.711269    7358.420914   \n",
       "std    1606.743783  1.313324e+05    5882.872148  280727.135717   19631.240449   \n",
       "min       1.000000  2.110000e+02       0.000000    1273.000000      10.000000   \n",
       "25%     291.000000  4.950000e+03       2.000000  150183.000000     712.000000   \n",
       "50%     841.000000  1.278780e+05      10.000000  208333.000000    1935.000000   \n",
       "75%    1940.000000  1.482590e+05      67.000000  718161.000000    1935.000000   \n",
       "max    9881.000000  2.589552e+06  183914.000000  718161.000000  187919.000000   \n",
       "\n",
       "             Dropped  \n",
       "count    4925.000000  \n",
       "mean     1348.993909  \n",
       "std      5965.380662  \n",
       "min         0.000000  \n",
       "25%        81.000000  \n",
       "50%       155.000000  \n",
       "75%       487.000000  \n",
       "max    174710.000000  "
      ]
     },
     "execution_count": 48,
     "metadata": {},
     "output_type": "execute_result"
    }
   ],
   "source": [
    "# Describe dataset \n",
    "df.describe()"
   ]
  },
  {
   "cell_type": "code",
   "execution_count": 49,
   "id": "7c6c3680",
   "metadata": {
    "id": "7c6c3680",
    "outputId": "0faa973c-2acb-47d8-956d-801288f12354"
   },
   "outputs": [
    {
     "data": {
      "text/html": [
       "<div>\n",
       "<style scoped>\n",
       "    .dataframe tbody tr th:only-of-type {\n",
       "        vertical-align: middle;\n",
       "    }\n",
       "\n",
       "    .dataframe tbody tr th {\n",
       "        vertical-align: top;\n",
       "    }\n",
       "\n",
       "    .dataframe thead th {\n",
       "        text-align: right;\n",
       "    }\n",
       "</style>\n",
       "<table border=\"1\" class=\"dataframe\">\n",
       "  <thead>\n",
       "    <tr style=\"text-align: right;\">\n",
       "      <th></th>\n",
       "      <th>anime_id</th>\n",
       "      <th>my_score</th>\n",
       "      <th>score</th>\n",
       "      <th>scored_by</th>\n",
       "      <th>rank</th>\n",
       "      <th>popularity</th>\n",
       "      <th>Members</th>\n",
       "      <th>Favorites</th>\n",
       "      <th>Completed</th>\n",
       "      <th>On-Hold</th>\n",
       "      <th>Dropped</th>\n",
       "    </tr>\n",
       "  </thead>\n",
       "  <tbody>\n",
       "    <tr>\n",
       "      <th>0</th>\n",
       "      <td>False</td>\n",
       "      <td>False</td>\n",
       "      <td>False</td>\n",
       "      <td>False</td>\n",
       "      <td>False</td>\n",
       "      <td>False</td>\n",
       "      <td>False</td>\n",
       "      <td>False</td>\n",
       "      <td>False</td>\n",
       "      <td>False</td>\n",
       "      <td>False</td>\n",
       "    </tr>\n",
       "    <tr>\n",
       "      <th>1</th>\n",
       "      <td>False</td>\n",
       "      <td>False</td>\n",
       "      <td>False</td>\n",
       "      <td>False</td>\n",
       "      <td>False</td>\n",
       "      <td>False</td>\n",
       "      <td>False</td>\n",
       "      <td>False</td>\n",
       "      <td>False</td>\n",
       "      <td>False</td>\n",
       "      <td>False</td>\n",
       "    </tr>\n",
       "    <tr>\n",
       "      <th>2</th>\n",
       "      <td>False</td>\n",
       "      <td>False</td>\n",
       "      <td>False</td>\n",
       "      <td>False</td>\n",
       "      <td>False</td>\n",
       "      <td>False</td>\n",
       "      <td>False</td>\n",
       "      <td>False</td>\n",
       "      <td>False</td>\n",
       "      <td>False</td>\n",
       "      <td>False</td>\n",
       "    </tr>\n",
       "    <tr>\n",
       "      <th>3</th>\n",
       "      <td>False</td>\n",
       "      <td>False</td>\n",
       "      <td>False</td>\n",
       "      <td>False</td>\n",
       "      <td>False</td>\n",
       "      <td>False</td>\n",
       "      <td>False</td>\n",
       "      <td>False</td>\n",
       "      <td>False</td>\n",
       "      <td>False</td>\n",
       "      <td>False</td>\n",
       "    </tr>\n",
       "    <tr>\n",
       "      <th>4</th>\n",
       "      <td>False</td>\n",
       "      <td>False</td>\n",
       "      <td>False</td>\n",
       "      <td>False</td>\n",
       "      <td>False</td>\n",
       "      <td>False</td>\n",
       "      <td>False</td>\n",
       "      <td>False</td>\n",
       "      <td>False</td>\n",
       "      <td>False</td>\n",
       "      <td>False</td>\n",
       "    </tr>\n",
       "    <tr>\n",
       "      <th>...</th>\n",
       "      <td>...</td>\n",
       "      <td>...</td>\n",
       "      <td>...</td>\n",
       "      <td>...</td>\n",
       "      <td>...</td>\n",
       "      <td>...</td>\n",
       "      <td>...</td>\n",
       "      <td>...</td>\n",
       "      <td>...</td>\n",
       "      <td>...</td>\n",
       "      <td>...</td>\n",
       "    </tr>\n",
       "    <tr>\n",
       "      <th>4920</th>\n",
       "      <td>False</td>\n",
       "      <td>False</td>\n",
       "      <td>False</td>\n",
       "      <td>False</td>\n",
       "      <td>False</td>\n",
       "      <td>False</td>\n",
       "      <td>False</td>\n",
       "      <td>False</td>\n",
       "      <td>False</td>\n",
       "      <td>False</td>\n",
       "      <td>False</td>\n",
       "    </tr>\n",
       "    <tr>\n",
       "      <th>4921</th>\n",
       "      <td>False</td>\n",
       "      <td>False</td>\n",
       "      <td>False</td>\n",
       "      <td>False</td>\n",
       "      <td>False</td>\n",
       "      <td>False</td>\n",
       "      <td>False</td>\n",
       "      <td>False</td>\n",
       "      <td>False</td>\n",
       "      <td>False</td>\n",
       "      <td>False</td>\n",
       "    </tr>\n",
       "    <tr>\n",
       "      <th>4922</th>\n",
       "      <td>False</td>\n",
       "      <td>False</td>\n",
       "      <td>False</td>\n",
       "      <td>False</td>\n",
       "      <td>False</td>\n",
       "      <td>False</td>\n",
       "      <td>False</td>\n",
       "      <td>False</td>\n",
       "      <td>False</td>\n",
       "      <td>False</td>\n",
       "      <td>False</td>\n",
       "    </tr>\n",
       "    <tr>\n",
       "      <th>4923</th>\n",
       "      <td>False</td>\n",
       "      <td>False</td>\n",
       "      <td>False</td>\n",
       "      <td>False</td>\n",
       "      <td>False</td>\n",
       "      <td>False</td>\n",
       "      <td>False</td>\n",
       "      <td>False</td>\n",
       "      <td>False</td>\n",
       "      <td>False</td>\n",
       "      <td>False</td>\n",
       "    </tr>\n",
       "    <tr>\n",
       "      <th>4924</th>\n",
       "      <td>False</td>\n",
       "      <td>False</td>\n",
       "      <td>False</td>\n",
       "      <td>False</td>\n",
       "      <td>False</td>\n",
       "      <td>False</td>\n",
       "      <td>False</td>\n",
       "      <td>False</td>\n",
       "      <td>False</td>\n",
       "      <td>False</td>\n",
       "      <td>False</td>\n",
       "    </tr>\n",
       "  </tbody>\n",
       "</table>\n",
       "<p>4925 rows × 11 columns</p>\n",
       "</div>"
      ],
      "text/plain": [
       "      anime_id  my_score  score  scored_by   rank  popularity  Members  \\\n",
       "0        False     False  False      False  False       False    False   \n",
       "1        False     False  False      False  False       False    False   \n",
       "2        False     False  False      False  False       False    False   \n",
       "3        False     False  False      False  False       False    False   \n",
       "4        False     False  False      False  False       False    False   \n",
       "...        ...       ...    ...        ...    ...         ...      ...   \n",
       "4920     False     False  False      False  False       False    False   \n",
       "4921     False     False  False      False  False       False    False   \n",
       "4922     False     False  False      False  False       False    False   \n",
       "4923     False     False  False      False  False       False    False   \n",
       "4924     False     False  False      False  False       False    False   \n",
       "\n",
       "      Favorites  Completed  On-Hold  Dropped  \n",
       "0         False      False    False    False  \n",
       "1         False      False    False    False  \n",
       "2         False      False    False    False  \n",
       "3         False      False    False    False  \n",
       "4         False      False    False    False  \n",
       "...         ...        ...      ...      ...  \n",
       "4920      False      False    False    False  \n",
       "4921      False      False    False    False  \n",
       "4922      False      False    False    False  \n",
       "4923      False      False    False    False  \n",
       "4924      False      False    False    False  \n",
       "\n",
       "[4925 rows x 11 columns]"
      ]
     },
     "execution_count": 49,
     "metadata": {},
     "output_type": "execute_result"
    }
   ],
   "source": [
    "# check for null value\n",
    "df.isnull()"
   ]
  },
  {
   "cell_type": "code",
   "execution_count": 50,
   "id": "553bae3f",
   "metadata": {
    "id": "553bae3f",
    "outputId": "bf5064de-c9bc-4423-8264-eb0b7e4b8d71"
   },
   "outputs": [
    {
     "data": {
      "text/plain": [
       "anime_id      0\n",
       "my_score      0\n",
       "score         0\n",
       "scored_by     0\n",
       "rank          0\n",
       "popularity    0\n",
       "Members       0\n",
       "Favorites     0\n",
       "Completed     0\n",
       "On-Hold       0\n",
       "Dropped       0\n",
       "dtype: int64"
      ]
     },
     "execution_count": 50,
     "metadata": {},
     "output_type": "execute_result"
    }
   ],
   "source": [
    "#count number of null values in each column\n",
    "df.isnull().sum()"
   ]
  },
  {
   "cell_type": "code",
   "execution_count": 51,
   "id": "f3885645",
   "metadata": {
    "id": "f3885645",
    "outputId": "8582f747-138f-4857-ff20-a5e6f610d152"
   },
   "outputs": [
    {
     "name": "stderr",
     "output_type": "stream",
     "text": [
      "C:\\ProgramData\\Anaconda3\\lib\\site-packages\\seaborn\\_decorators.py:36: FutureWarning: Pass the following variable as a keyword arg: x. From version 0.12, the only valid positional argument will be `data`, and passing other arguments without an explicit keyword will result in an error or misinterpretation.\n",
      "  warnings.warn(\n"
     ]
    },
    {
     "data": {
      "image/png": "[encoded data removed]",
      "text/plain": [
       "<Figure size 432x288 with 1 Axes>"
      ]
     },
     "metadata": {
      "needs_background": "light"
     },
     "output_type": "display_data"
    }
   ],
   "source": [
    "#plot for target variable\n",
    "sns.countplot(df[\"Completed\"])\n",
    "plt.xlabel(\"Completed\")\n",
    "plt.ylabel(\"Count of Completed\")\n",
    "plt.title(\"Completed variable count plot\")\n",
    "plt.show()\n"
   ]
  },
  {
   "cell_type": "code",
   "execution_count": 80,
   "id": "33fea4bc",
   "metadata": {
    "colab": {
     "base_uri": "https://localhost:8080/",
     "height": 187
    },
    "executionInfo": {
     "elapsed": 116,
     "status": "error",
     "timestamp": 1689045977014,
     "user": {
      "displayName": "Gilda Tahani",
      "userId": "08506607757169875388"
     },
     "user_tz": 240
    },
    "id": "33fea4bc",
    "outputId": "ca5a9397-cb2a-42cf-8e2f-4ebd748abd9d"
   },
   "outputs": [],
   "source": [
    "#Dependent and independent variable based on the locations\n",
    "x=df.iloc[:, :-1]\n",
    "y=df.iloc[:, -3]"
   ]
  },
  {
   "cell_type": "code",
   "execution_count": 81,
   "id": "68d30972",
   "metadata": {
    "id": "68d30972",
    "outputId": "6422f3d8-c0d9-433d-834b-3b1bd09edc8e"
   },
   "outputs": [
    {
     "data": {
      "text/plain": [
       "(4925, 10)"
      ]
     },
     "execution_count": 81,
     "metadata": {},
     "output_type": "execute_result"
    }
   ],
   "source": [
    "x.shape"
   ]
  },
  {
   "cell_type": "code",
   "execution_count": 82,
   "id": "e28cdb6e",
   "metadata": {
    "id": "e28cdb6e",
    "outputId": "9b0ddbe6-02f1-478c-b000-0d790b96bf82"
   },
   "outputs": [
    {
     "data": {
      "text/plain": [
       "(4925,)"
      ]
     },
     "execution_count": 82,
     "metadata": {},
     "output_type": "execute_result"
    }
   ],
   "source": [
    "y.shape"
   ]
  },
  {
   "cell_type": "code",
   "execution_count": 83,
   "id": "3834bc49",
   "metadata": {
    "id": "3834bc49"
   },
   "outputs": [],
   "source": [
    "#Split dataset to train set and data set\n",
    "from sklearn.model_selection import train_test_split\n",
    "x_train, x_test, y_train, y_test=train_test_split(x, y,\n",
    "                                                  random_state=99)"
   ]
  },
  {
   "cell_type": "code",
   "execution_count": 96,
   "id": "228e2cc2",
   "metadata": {
    "id": "228e2cc2"
   },
   "outputs": [],
   "source": [
    "#RandomForest Classifier\n",
    "from sklearn.ensemble import RandomForestClassifier\n",
    "clf=RandomForestClassifier(criterion=\"gini\",\n",
    "                          max_depth=8,\n",
    "                          min_samples_split=10,\n",
    "                          random_state=5)"
   ]
  },
  {
   "cell_type": "code",
   "execution_count": 85,
   "id": "98b6e5f3",
   "metadata": {
    "id": "98b6e5f3",
    "outputId": "2a4a664d-fc81-4842-f3de-54c9ad7fecb2"
   },
   "outputs": [
    {
     "data": {
      "text/plain": [
       "RandomForestClassifier(max_depth=8, min_samples_split=10, random_state=5)"
      ]
     },
     "execution_count": 85,
     "metadata": {},
     "output_type": "execute_result"
    }
   ],
   "source": [
    "clf.fit(x_train, y_train)"
   ]
  },
  {
   "cell_type": "code",
   "execution_count": 86,
   "id": "7a03e7c4",
   "metadata": {
    "id": "7a03e7c4",
    "outputId": "0b24b9a0-7550-4082-8630-ee96cc2ad371"
   },
   "outputs": [
    {
     "data": {
      "text/plain": [
       "array([0.00459827, 0.00180454, 0.00388099, 0.00484164, 0.00394313,\n",
       "       0.00424486, 0.01986978, 0.02748998, 0.75716372, 0.17216309])"
      ]
     },
     "execution_count": 86,
     "metadata": {},
     "output_type": "execute_result"
    }
   ],
   "source": [
    "clf.feature_importances_"
   ]
  },
  {
   "cell_type": "code",
   "execution_count": 87,
   "id": "6a7478d5",
   "metadata": {
    "id": "6a7478d5",
    "outputId": "dfa61e0a-e601-46e9-83f9-6f5fc3268cc8"
   },
   "outputs": [
    {
     "data": {
      "text/plain": [
       "Index(['anime_id', 'my_score', 'score', 'scored_by', 'rank', 'popularity',\n",
       "       'Members', 'Favorites', 'Completed', 'On-Hold', 'Dropped'],\n",
       "      dtype='object')"
      ]
     },
     "execution_count": 87,
     "metadata": {},
     "output_type": "execute_result"
    }
   ],
   "source": [
    "df.columns"
   ]
  },
  {
   "cell_type": "code",
   "execution_count": 95,
   "id": "5a72c582",
   "metadata": {
    "id": "5a72c582",
    "outputId": "8c78dc1c-283b-4891-d87e-c1e9691190f6"
   },
   "outputs": [
    {
     "data": {
      "text/plain": [
       "array([718161, 718161,  47981, ..., 150183,  47981, 150183], dtype=int64)"
      ]
     },
     "execution_count": 95,
     "metadata": {},
     "output_type": "execute_result"
    }
   ],
   "source": [
    "#Predict y based on x values\n",
    "y_pred=clf.predict(x_test)\n",
    "y_pred"
   ]
  },
  {
   "cell_type": "code",
   "execution_count": 89,
   "id": "c9efce5c",
   "metadata": {
    "id": "c9efce5c",
    "outputId": "ec5aabf5-c7f3-438b-8166-aec9e78b05a1"
   },
   "outputs": [
    {
     "data": {
      "text/plain": [
       "array([[  9,   0,  10,   0,   0,   0],\n",
       "       [  0,   0,  10,   0,   0,   0],\n",
       "       [  0,   0, 114,   0,   0,   0],\n",
       "       [  0,   0,   0, 400,   0,   0],\n",
       "       [  0,   0,   0,   0, 216,   0],\n",
       "       [  0,   0,   0,   0,   0, 473]], dtype=int64)"
      ]
     },
     "execution_count": 89,
     "metadata": {},
     "output_type": "execute_result"
    }
   ],
   "source": [
    "# Calculating Confusion matrix\n",
    "from sklearn.metrics import confusion_matrix\n",
    "confusion_matrix(y_test, y_pred)"
   ]
  },
  {
   "cell_type": "code",
   "execution_count": 90,
   "id": "c1a60014",
   "metadata": {
    "id": "c1a60014",
    "outputId": "37607266-7cf1-4407-cb1d-6b58adc23b40"
   },
   "outputs": [
    {
     "data": {
      "text/plain": [
       "0.9837662337662337"
      ]
     },
     "execution_count": 90,
     "metadata": {},
     "output_type": "execute_result"
    }
   ],
   "source": [
    "# Accuracy score\n",
    "from sklearn.metrics import accuracy_score\n",
    "accuracy_score(y_test, y_pred)"
   ]
  },
  {
   "cell_type": "code",
   "execution_count": 91,
   "id": "38382b70",
   "metadata": {
    "id": "38382b70",
    "outputId": "0a585eea-3e51-493d-a6ae-89bf6516cc22"
   },
   "outputs": [
    {
     "data": {
      "text/plain": [
       "array([0.98378378, 0.98108108, 0.98108108, 0.97831978, 0.98373984,\n",
       "       0.97831978, 0.98102981, 0.97831978, 0.98644986, 0.97831978])"
      ]
     },
     "execution_count": 91,
     "metadata": {},
     "output_type": "execute_result"
    }
   ],
   "source": [
    "# Cross validation\n",
    "from sklearn.model_selection import cross_val_score\n",
    "cross_val_score(clf, x_train, y_train, cv=10)"
   ]
  },
  {
   "cell_type": "code",
   "execution_count": 92,
   "id": "400e3a7c",
   "metadata": {
    "id": "400e3a7c",
    "outputId": "beb7aa0f-69e3-4a9a-d479-67df73cc1569"
   },
   "outputs": [
    {
     "name": "stdout",
     "output_type": "stream",
     "text": [
      "              precision    recall  f1-score   support\n",
      "\n",
      "        1273       0.47      1.00      0.64         9\n",
      "       44663       0.00      0.00      0.00         0\n",
      "       47981       1.00      0.85      0.92       134\n",
      "      150183       1.00      1.00      1.00       400\n",
      "      208333       1.00      1.00      1.00       216\n",
      "      718161       1.00      1.00      1.00       473\n",
      "\n",
      "    accuracy                           0.98      1232\n",
      "   macro avg       0.75      0.81      0.76      1232\n",
      "weighted avg       1.00      0.98      0.99      1232\n",
      "\n"
     ]
    },
    {
     "name": "stderr",
     "output_type": "stream",
     "text": [
      "C:\\ProgramData\\Anaconda3\\lib\\site-packages\\sklearn\\metrics\\_classification.py:1318: UndefinedMetricWarning: Recall and F-score are ill-defined and being set to 0.0 in labels with no true samples. Use `zero_division` parameter to control this behavior.\n",
      "  _warn_prf(average, modifier, msg_start, len(result))\n",
      "C:\\ProgramData\\Anaconda3\\lib\\site-packages\\sklearn\\metrics\\_classification.py:1318: UndefinedMetricWarning: Recall and F-score are ill-defined and being set to 0.0 in labels with no true samples. Use `zero_division` parameter to control this behavior.\n",
      "  _warn_prf(average, modifier, msg_start, len(result))\n",
      "C:\\ProgramData\\Anaconda3\\lib\\site-packages\\sklearn\\metrics\\_classification.py:1318: UndefinedMetricWarning: Recall and F-score are ill-defined and being set to 0.0 in labels with no true samples. Use `zero_division` parameter to control this behavior.\n",
      "  _warn_prf(average, modifier, msg_start, len(result))\n"
     ]
    }
   ],
   "source": [
    "#Classification Report\n",
    "from sklearn.metrics import classification_report\n",
    "print(classification_report(y_pred, y_test))"
   ]
  },
  {
   "cell_type": "code",
   "execution_count": 94,
   "id": "97cffe15",
   "metadata": {
    "id": "97cffe15",
    "outputId": "3b8675ce-9fe4-4118-e5ed-fcb23aaaaa5b"
   },
   "outputs": [
    {
     "data": {
      "text/plain": [
       "<function matplotlib.pyplot.show(close=None, block=None)>"
      ]
     },
     "execution_count": 94,
     "metadata": {},
     "output_type": "execute_result"
    },
    {
     "data": {
      "image/png": "[encoded data removed]",
      "text/plain": [
       "<Figure size 432x288 with 1 Axes>"
      ]
     },
     "metadata": {
      "needs_background": "light"
     },
     "output_type": "display_data"
    }
   ],
   "source": [
    "#Relative Importance Plot\n",
    "features=df.columns\n",
    "importances=clf.feature_importances_\n",
    "indices=np.argsort(importances)\n",
    "plt.title (\"Feature importances\")\n",
    "plt.barh (range(len(indices)), importances[indices], color='b', align='center')\n",
    "plt.yticks (range(len(indices)), [features[i] for i in indices])\n",
    "plt.xlabel (\"Relative Importance\")\n",
    "plt.show"
   ]
  },
  {
   "cell_type": "code",
   "execution_count": null,
   "id": "7dc4908d",
   "metadata": {},
   "outputs": [],
   "source": []
  }
 ],
 "metadata": {
  "colab": {
   "provenance": []
  },
  "kernelspec": {
   "display_name": "Python 3 (ipykernel)",
   "language": "python",
   "name": "python3"
  },
  "language_info": {
   "codemirror_mode": {
    "name": "ipython",
    "version": 3
   },
   "file_extension": ".py",
   "mimetype": "text/x-python",
   "name": "python",
   "nbconvert_exporter": "python",
   "pygments_lexer": "ipython3",
   "version": "3.9.12"
  }
 },
 "nbformat": 4,
 "nbformat_minor": 5
}

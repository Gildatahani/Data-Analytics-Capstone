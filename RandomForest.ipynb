{
 "cells": [
  {
   "cell_type": "code",
   "execution_count": 1,
   "id": "cb78cba3",
   "metadata": {},
   "outputs": [],
   "source": [
    "from sklearn.ensemble import RandomForestClassifier\n",
    "from sklearn.model_selection import train_test_split\n",
    "from sklearn.metrics import accuracy_score\n",
    "from sklearn.compose import ColumnTransformer\n",
    "from sklearn.preprocessing import OneHotEncoder\n",
    "from sklearn.model_selection import train_test_split\n",
    "from sklearn.linear_model import SGDClassifier"
   ]
  },
  {
   "cell_type": "code",
   "execution_count": 2,
   "id": "2763d030",
   "metadata": {},
   "outputs": [],
   "source": [
    "import pandas as pd\n",
    "from sklearn.preprocessing import LabelEncoder\n",
    "\n",
    "# Load the dataset\n",
    "df = pd.read_csv('Anime.csv')\n",
    "\n"
   ]
  },
  {
   "cell_type": "code",
   "execution_count": 16,
   "id": "481ab799",
   "metadata": {},
   "outputs": [],
   "source": [
    "\n",
    "df['my_score'] = pd.to_numeric(df['my_score'], errors='coerce')\n",
    "df['score'] = pd.to_numeric(df['score'], errors='coerce')\n",
    "df['popularity'] = pd.to_numeric(df['popularity'], errors='coerce')\n",
    "df['Completed'] = pd.to_numeric(df['Completed'], errors='coerce')\n",
    "df['scored_by'] = pd.to_numeric(df['scored_by'], errors='coerce')\n",
    "# Handling missing values\n",
    "df = df.dropna(subset=['my_score', 'score','scored_by','Completed', 'popularity'])  # Remove rows with missing values\n",
    "\n"
   ]
  },
  {
   "cell_type": "code",
   "execution_count": 25,
   "id": "9e13e76a",
   "metadata": {},
   "outputs": [],
   "source": [
    "\n",
    "# Separate the features (X) and the labels (y)\n",
    "X = df.drop(['username', 'gender', 'title', 'type', 'source', 'genre','Duration','anime_id', 'user_id','popularity','Members','Favorites','On-Hold','Dropped','Completed','scored_by','Rating','rank'], axis=1)\n",
    "y = df[['Completed']]\n",
    "y = y.values.ravel()"
   ]
  },
  {
   "cell_type": "code",
   "execution_count": 26,
   "id": "92d8d25d",
   "metadata": {},
   "outputs": [],
   "source": [
    "#Split the dataset into training and testing sets:\n",
    "X_train, X_test, y_train, y_test = train_test_split(X, y, test_size=0.2, random_state=42)\n"
   ]
  },
  {
   "cell_type": "code",
   "execution_count": 27,
   "id": "7f859d5c",
   "metadata": {},
   "outputs": [],
   "source": [
    "import numpy as np\n",
    "\n",
    "# Extract unique classes from y\n",
    "classes = np.unique(y)\n",
    "\n",
    "# Initialize the classifier\n",
    "sgd_classifier = SGDClassifier()\n",
    "\n",
    "# First call to partial_fit with classes argument\n",
    "sgd_classifier.partial_fit(X_train, y_train, classes=classes)\n",
    "\n",
    "# Subsequent calls to partial_fit without classes argument\n",
    "sgd_classifier.partial_fit(X_train, y_train)\n",
    "\n",
    "# Predict the labels for the test data\n",
    "y_pred = sgd_classifier.predict(X_test)\n",
    "\n",
    "# Initialize the RandomForestClassifier\n",
    "rf_classifier = RandomForestClassifier()\n",
    "\n",
    "# Fit the model on the training data\n",
    "rf_classifier.fit(X_train, y_train)\n",
    "\n",
    "# Predict the labels for the test data\n",
    "y_pred = rf_classifier.predict(X_test)\n"
   ]
  },
  {
   "cell_type": "code",
   "execution_count": 28,
   "id": "b255ec2b",
   "metadata": {},
   "outputs": [
    {
     "name": "stdout",
     "output_type": "stream",
     "text": [
      "Accuracy: 0.2971602434077079\n"
     ]
    }
   ],
   "source": [
    "#Evaluate the accuracy of the model:\n",
    "accuracy = accuracy_score(y_test, y_pred)\n",
    "print(\"Accuracy:\", accuracy)\n"
   ]
  },
  {
   "cell_type": "code",
   "execution_count": 29,
   "id": "c326913e",
   "metadata": {},
   "outputs": [
    {
     "name": "stdout",
     "output_type": "stream",
     "text": [
      "Confusion Matrix:\n",
      "[[  0   0   1   3   2   7]\n",
      " [  0   0   0   2   1   4]\n",
      " [  0   0   3  24  15  48]\n",
      " [  1   4  13  99  59 158]\n",
      " [  2   3  16  47  21  72]\n",
      " [  3   2  18 149  39 170]]\n"
     ]
    }
   ],
   "source": [
    "# Calculate the confusion matrix\n",
    "from sklearn.metrics import confusion_matrix, classification_report\n",
    "cm = confusion_matrix(y_test, y_pred)\n",
    "print(\"Confusion Matrix:\")\n",
    "print(cm)"
   ]
  },
  {
   "cell_type": "code",
   "execution_count": 30,
   "id": "77d8ce29",
   "metadata": {},
   "outputs": [
    {
     "name": "stdout",
     "output_type": "stream",
     "text": [
      "Cross-Validation Scores: [0.32860041 0.32251521 0.31034483 0.29310345 0.29513185]\n"
     ]
    }
   ],
   "source": [
    "# Perform cross-validation\n",
    "from sklearn.model_selection import cross_val_score\n",
    "cv_scores = cross_val_score(rf_classifier, X, y, cv=5)\n",
    "print(\"Cross-Validation Scores:\", cv_scores)"
   ]
  },
  {
   "cell_type": "code",
   "execution_count": null,
   "id": "74934db2",
   "metadata": {},
   "outputs": [],
   "source": []
  }
 ],
 "metadata": {
  "kernelspec": {
   "display_name": "Python 3 (ipykernel)",
   "language": "python",
   "name": "python3"
  },
  "language_info": {
   "codemirror_mode": {
    "name": "ipython",
    "version": 3
   },
   "file_extension": ".py",
   "mimetype": "text/x-python",
   "name": "python",
   "nbconvert_exporter": "python",
   "pygments_lexer": "ipython3",
   "version": "3.9.12"
  }
 },
 "nbformat": 4,
 "nbformat_minor": 5
}
